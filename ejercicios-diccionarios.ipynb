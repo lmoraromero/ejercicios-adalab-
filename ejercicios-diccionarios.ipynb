{
 "cells": [
  {
   "cell_type": "markdown",
   "metadata": {},
   "source": [
    "# Ejercicios Diccionarios"
   ]
  },
  {
   "cell_type": "markdown",
   "metadata": {},
   "source": [
    "- Definir diccionarios\n",
    "\n",
    "  1. Crea el diccionario `festivos` con las fechas como claves y los nombres como valores: 01/01: Año Nuevo, 06/01: Epifanía del Señor, 15/04: Viernes Santo, 15/08: Asunción de la Virgen, 12/10: Fiesta Nacional de España, 01/11: Todos los Santos, 06/12: Día de la Constitución Española, y 08/12: Inmaculada Concepción.\n",
    "\n",
    "\n",
    "  2. Crea el diccionario `monarcas` con los países como claves y los nombres como valores: Bélgica: Philippe, Dinamarca: Margrethe II, Holanda: Beatrix, Noruega: Harald V, España: Felipe VI, Reino Unido: Carlos III."
   ]
  },
  {
   "cell_type": "code",
   "execution_count": 2,
   "metadata": {},
   "outputs": [
    {
     "name": "stdout",
     "output_type": "stream",
     "text": [
      "{'01/01': 'Año Nuevo', '06/01': 'Epifanía del Señor', '15/04': 'Viernes Santo', '15/08': 'Asunción de la virgen', '12/10': 'Fiesta Nacional de España', '01/11': 'Todos los Santos', '06/12': 'Día de la Constitución Española', '08/12': 'Inmaculada Concepción'}\n"
     ]
    }
   ],
   "source": [
    "#1\n",
    "festivos = {'01/01':'Año Nuevo', '06/01':'Epifanía del Señor', '15/04':'Viernes Santo', '15/08':'Asunción de la virgen', '12/10':'Fiesta Nacional de España', '01/11':'Todos los Santos', '06/12':'Día de la Constitución Española', '08/12':'Inmaculada Concepción'}\n",
    "print(festivos)\n"
   ]
  },
  {
   "cell_type": "code",
   "execution_count": 3,
   "metadata": {},
   "outputs": [
    {
     "name": "stdout",
     "output_type": "stream",
     "text": [
      "{'Bélgica': 'Philippe', 'Dinamarca': 'Margrethe II', 'Holanda': 'Beatrix', 'Noruega': 'Harald V', 'España': 'Felipe VI', 'Reino Unido': 'Carlos III'}\n"
     ]
    }
   ],
   "source": [
    "#2\n",
    "monarcas = {'Bélgica':'Philippe', 'Dinamarca':'Margrethe II', 'Holanda':'Beatrix', 'Noruega':'Harald V', 'España':'Felipe VI', 'Reino Unido':'Carlos III'}\n",
    "print(monarcas)"
   ]
  },
  {
   "cell_type": "markdown",
   "metadata": {},
   "source": [
    "- Leer, añadir, y cambiar elementos\n",
    "\n",
    "  3. ¿Qué festivo hay el 15/04?\n",
    "\n",
    "\n",
    "  4. La reina `'Beatrix'` abdicó, ahora es el rey `'Willem-Alexander'`. Actualiza el dict.\n",
    "\n",
    "  \n",
    "  5. El rey de Luxemburgo se llama `Henri`. Añadelo al dict usando `.update()`. "
   ]
  },
  {
   "cell_type": "code",
   "execution_count": 4,
   "metadata": {},
   "outputs": [
    {
     "name": "stdout",
     "output_type": "stream",
     "text": [
      "¿Qué festivo hay el 15/04? Viernes Santo\n"
     ]
    }
   ],
   "source": [
    "#3\n",
    "print('¿Qué festivo hay el 15/04?', festivos.get('15/04'))"
   ]
  },
  {
   "cell_type": "code",
   "execution_count": 5,
   "metadata": {},
   "outputs": [
    {
     "name": "stdout",
     "output_type": "stream",
     "text": [
      "{'Bélgica': 'Philippe', 'Dinamarca': 'Margrethe II', 'Holanda': 'Willen-Alexander', 'Noruega': 'Harald V', 'España': 'Felipe VI', 'Reino Unido': 'Carlos III'}\n"
     ]
    }
   ],
   "source": [
    "#4\n",
    "monarcas['Holanda'] = 'Willen-Alexander'\n",
    "print(monarcas)"
   ]
  },
  {
   "cell_type": "code",
   "execution_count": 6,
   "metadata": {},
   "outputs": [
    {
     "name": "stdout",
     "output_type": "stream",
     "text": [
      "{'Bélgica': 'Philippe', 'Dinamarca': 'Margrethe II', 'Holanda': 'Willen-Alexander', 'Noruega': 'Harald V', 'España': 'Felipe VI', 'Reino Unido': 'Carlos III', 'Luxemburgo': 'Henri'}\n"
     ]
    }
   ],
   "source": [
    "#5\n",
    "nuevo_mon = {'Luxemburgo':'Henri'}\n",
    "monarcas.update(nuevo_mon)\n",
    "print(monarcas)"
   ]
  },
  {
   "cell_type": "markdown",
   "metadata": {},
   "source": [
    "- Comprobar contenidos\n",
    "\n",
    "  6. ¿Cuántos países están definidos en `monarcas`?\n",
    "\n",
    "  7. ¿Es `'Monaco'` uno de ellos?\n",
    "\n",
    "  8. ¿Es verdad que nos olvidamos de poner `'Suecia'`? Compruébalo de una manera en que obtengas un `True` o `False`."
   ]
  },
  {
   "cell_type": "code",
   "execution_count": 7,
   "metadata": {},
   "outputs": [
    {
     "name": "stdout",
     "output_type": "stream",
     "text": [
      "Los países definidos en el diccionario son 7 : dict_keys(['Bélgica', 'Dinamarca', 'Holanda', 'Noruega', 'España', 'Reino Unido', 'Luxemburgo'])\n"
     ]
    }
   ],
   "source": [
    "#6\n",
    "print('Los países definidos en el diccionario son', len(monarcas.keys()), ':', monarcas.keys())\n"
   ]
  },
  {
   "cell_type": "code",
   "execution_count": 8,
   "metadata": {},
   "outputs": [
    {
     "name": "stdout",
     "output_type": "stream",
     "text": [
      "¿Está Mónaco en mi diccionario? False\n"
     ]
    }
   ],
   "source": [
    "#7\n",
    "print('¿Está Mónaco en mi diccionario?', 'Mónaco' in monarcas)"
   ]
  },
  {
   "cell_type": "code",
   "execution_count": 9,
   "metadata": {},
   "outputs": [
    {
     "name": "stdout",
     "output_type": "stream",
     "text": [
      "¿Nos hemos olvidado de poner Suecia en el diccionario? True\n"
     ]
    }
   ],
   "source": [
    "#8\n",
    "print('¿Nos hemos olvidado de poner Suecia en el diccionario?', 'Suecia' not in monarcas)"
   ]
  },
  {
   "cell_type": "markdown",
   "metadata": {},
   "source": [
    "- Listar los contenidos\n",
    "\n",
    "  9. Saca una **lista** de todos los países en el dict `monarcas`.\n",
    "\n",
    "  10. Saca una **lista** de los nombres de los festivos.\n",
    "\n",
    "  11. Imprime el diccionario de festivos.\n",
    "  \n",
    "  12. Imprime una **lista de tuplas** de todos los elementos que hay en festivos."
   ]
  },
  {
   "cell_type": "code",
   "execution_count": 10,
   "metadata": {},
   "outputs": [
    {
     "name": "stdout",
     "output_type": "stream",
     "text": [
      "['Bélgica', 'Dinamarca', 'Holanda', 'Noruega', 'España', 'Reino Unido', 'Luxemburgo']\n"
     ]
    }
   ],
   "source": [
    "#9\n",
    "paises = list(monarcas.keys())\n",
    "print(paises)\n"
   ]
  },
  {
   "cell_type": "code",
   "execution_count": 11,
   "metadata": {},
   "outputs": [
    {
     "name": "stdout",
     "output_type": "stream",
     "text": [
      "['Año Nuevo', 'Epifanía del Señor', 'Viernes Santo', 'Asunción de la virgen', 'Fiesta Nacional de España', 'Todos los Santos', 'Día de la Constitución Española', 'Inmaculada Concepción']\n"
     ]
    }
   ],
   "source": [
    "#10\n",
    "lista_festivos = list(festivos.values())\n",
    "print(lista_festivos)"
   ]
  },
  {
   "cell_type": "code",
   "execution_count": 12,
   "metadata": {},
   "outputs": [
    {
     "name": "stdout",
     "output_type": "stream",
     "text": [
      "{'01/01': 'Año Nuevo', '06/01': 'Epifanía del Señor', '15/04': 'Viernes Santo', '15/08': 'Asunción de la virgen', '12/10': 'Fiesta Nacional de España', '01/11': 'Todos los Santos', '06/12': 'Día de la Constitución Española', '08/12': 'Inmaculada Concepción'}\n"
     ]
    }
   ],
   "source": [
    "#11\n",
    "print(festivos)"
   ]
  },
  {
   "cell_type": "code",
   "execution_count": 13,
   "metadata": {},
   "outputs": [
    {
     "data": {
      "text/plain": [
       "[('01/01', 'Año Nuevo'),\n",
       " ('06/01', 'Epifanía del Señor'),\n",
       " ('15/04', 'Viernes Santo'),\n",
       " ('15/08', 'Asunción de la virgen'),\n",
       " ('12/10', 'Fiesta Nacional de España'),\n",
       " ('01/11', 'Todos los Santos'),\n",
       " ('06/12', 'Día de la Constitución Española'),\n",
       " ('08/12', 'Inmaculada Concepción')]"
      ]
     },
     "execution_count": 13,
     "metadata": {},
     "output_type": "execute_result"
    }
   ],
   "source": [
    "#12\n",
    "list(festivos.items())"
   ]
  },
  {
   "cell_type": "markdown",
   "metadata": {},
   "source": [
    "- Copiar dicts, y borrar elementos\n",
    "\n",
    "  13. Copia `monarcas` a `monarcas2010`.\n",
    "\n",
    "  14. Quita España de `monarcas2010`.\n",
    "\n",
    "  15. Quita el último elemento de `monarcas2010`."
   ]
  },
  {
   "cell_type": "code",
   "execution_count": 13,
   "metadata": {},
   "outputs": [],
   "source": [
    "#13\n",
    "monarcas2010 = monarcas.copy()"
   ]
  },
  {
   "cell_type": "code",
   "execution_count": 14,
   "metadata": {},
   "outputs": [
    {
     "name": "stdout",
     "output_type": "stream",
     "text": [
      "{'Bélgica': 'Philippe', 'Dinamarca': 'Margrethe II', 'Holanda': 'Willen-Alexander', 'Noruega': 'Harald V', 'España': 'Felipe VI', 'Reino Unido': 'Carlos III', 'Luxemburgo': 'Henri'}\n",
      "Eliminamos España del diccionario: Felipe VI\n",
      "El nuevo diccionario es {'Bélgica': 'Philippe', 'Dinamarca': 'Margrethe II', 'Holanda': 'Willen-Alexander', 'Noruega': 'Harald V', 'Reino Unido': 'Carlos III', 'Luxemburgo': 'Henri'}\n"
     ]
    }
   ],
   "source": [
    "#14\n",
    "print(monarcas2010)\n",
    "print('Eliminamos España del diccionario:', monarcas2010.pop('España'))\n",
    "print('El nuevo diccionario es', monarcas2010)\n"
   ]
  },
  {
   "cell_type": "code",
   "execution_count": 15,
   "metadata": {},
   "outputs": [
    {
     "name": "stdout",
     "output_type": "stream",
     "text": [
      "Quitamos el último elemento del diccionario ('Luxemburgo', 'Henri')\n",
      "El diccionario queda así: {'Bélgica': 'Philippe', 'Dinamarca': 'Margrethe II', 'Holanda': 'Willen-Alexander', 'Noruega': 'Harald V', 'Reino Unido': 'Carlos III'}\n"
     ]
    }
   ],
   "source": [
    "#15\n",
    "print('Quitamos el último elemento del diccionario', monarcas2010.popitem())\n",
    "print('El diccionario queda así:', monarcas2010)"
   ]
  },
  {
   "cell_type": "markdown",
   "metadata": {},
   "source": [
    "- Vaciar y borrar dicts\n",
    "\n",
    "  16. Vacia el dict `monarcas2010`."
   ]
  },
  {
   "cell_type": "code",
   "execution_count": 16,
   "metadata": {},
   "outputs": [
    {
     "name": "stdout",
     "output_type": "stream",
     "text": [
      "Hemos vaciado el diccionario monarcas2010: {}\n"
     ]
    }
   ],
   "source": [
    "#16\n",
    "monarcas2010.clear()\n",
    "print('Hemos vaciado el diccionario monarcas2010:', monarcas2010)"
   ]
  },
  {
   "cell_type": "markdown",
   "metadata": {},
   "source": [
    "- Obtener valores\n",
    "\n",
    "  17. ¿Qué festivo hay el 06/01?\n",
    "  \n",
    "  18. Obten el festivo que haya el 08/03, y en su defecto devuélve 'Día Internacional de la Mujer'.\n",
    "\n",
    "  19. Obten el festivo que haya el 31/11, y si no existe crea un par de clave-valor nuevo con el valor de 'Todos los Santos'."
   ]
  },
  {
   "cell_type": "code",
   "execution_count": 17,
   "metadata": {},
   "outputs": [
    {
     "name": "stdout",
     "output_type": "stream",
     "text": [
      "{'01/01': 'Año Nuevo', '06/01': 'Epifanía del Señor', '15/04': 'Viernes Santo', '15/08': 'Asunción de la virgen', '12/10': 'Fiesta Nacional de España', '01/11': 'Todos los Santos', '06/12': 'Día de la Constitución Española', '08/12': 'Inmaculada Concepción'}\n"
     ]
    }
   ],
   "source": [
    "print(festivos)"
   ]
  },
  {
   "cell_type": "code",
   "execution_count": 18,
   "metadata": {},
   "outputs": [
    {
     "name": "stdout",
     "output_type": "stream",
     "text": [
      "¿Qué festivo hay el 06/01? Epifanía del Señor\n"
     ]
    }
   ],
   "source": [
    "#17\n",
    "print('¿Qué festivo hay el 06/01?', festivos.get('06/01'))"
   ]
  },
  {
   "cell_type": "code",
   "execution_count": 19,
   "metadata": {},
   "outputs": [
    {
     "name": "stdout",
     "output_type": "stream",
     "text": [
      "¿Qué festivo hay el 08/03? Día Internacional de la Mujer\n"
     ]
    }
   ],
   "source": [
    "#18\n",
    "nueva_fecha = {'08/03':'Día Internacional de la Mujer'}\n",
    "festivos.update(nueva_fecha)\n",
    "print('¿Qué festivo hay el 08/03?', festivos.get('08/03'))"
   ]
  },
  {
   "cell_type": "code",
   "execution_count": 20,
   "metadata": {},
   "outputs": [],
   "source": [
    "#19\n"
   ]
  }
 ],
 "metadata": {
  "kernelspec": {
   "display_name": "base",
   "language": "python",
   "name": "python3"
  },
  "language_info": {
   "codemirror_mode": {
    "name": "ipython",
    "version": 3
   },
   "file_extension": ".py",
   "mimetype": "text/x-python",
   "name": "python",
   "nbconvert_exporter": "python",
   "pygments_lexer": "ipython3",
   "version": "3.9.0"
  }
 },
 "nbformat": 4,
 "nbformat_minor": 2
}
