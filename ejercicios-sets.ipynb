{
 "cells": [
  {
   "cell_type": "markdown",
   "metadata": {},
   "source": [
    "# Ejercicios"
   ]
  },
  {
   "cell_type": "markdown",
   "metadata": {},
   "source": [
    " Definir sets\n",
    "\n",
    "  1. Define la *lista* \n",
    "        ```python\n",
    "        temperaturas_diciembre = [10, 10, 13, 14, 12, 15, \n",
    "                                  12, 11, 13, 17, 18, 15, \n",
    "                                  15, 17, 17, 13, 13, 11,\n",
    "                                  12, 10, 12, 14, 12, 12,\n",
    "                                  11, 12, 16, 16, 14, 17, 18]\n",
    "        ```\n",
    "  2. Conviértala en un set  llamado `diciembre`.\n",
    "\n",
    "  3. Piensa en 6 colores y almacenalos en un set llamado `colores`."
   ]
  },
  {
   "cell_type": "code",
   "execution_count": 2,
   "metadata": {},
   "outputs": [
    {
     "name": "stdout",
     "output_type": "stream",
     "text": [
      "[10, 10, 13, 14, 12, 15, 12, 11, 13, 17, 18, 15, 15, 17, 17, 13, 13, 11, 12, 10, 12, 14, 12, 12, 11, 12, 16, 16, 14, 17, 18]\n"
     ]
    }
   ],
   "source": [
    "#1\n",
    "temperaturas_diciembre = [10, 10, 13, 14, 12, 15, 12, 11, 13, 17, 18, 15, \n",
    "                                  15, 17, 17, 13, 13, 11,\n",
    "                                  12, 10, 12, 14, 12, 12,\n",
    "                                  11, 12, 16, 16, 14, 17, 18]\n",
    "\n",
    "print(temperaturas_diciembre)"
   ]
  },
  {
   "cell_type": "code",
   "execution_count": 3,
   "metadata": {},
   "outputs": [
    {
     "name": "stdout",
     "output_type": "stream",
     "text": [
      "{10, 11, 12, 13, 14, 15, 16, 17, 18}\n"
     ]
    }
   ],
   "source": [
    "#2\n",
    "diciembre = set(temperaturas_diciembre)\n",
    "print(diciembre)"
   ]
  },
  {
   "cell_type": "code",
   "execution_count": 4,
   "metadata": {},
   "outputs": [
    {
     "name": "stdout",
     "output_type": "stream",
     "text": [
      "{'Negro', 'Blanco', 'Amarillo', 'Naranja', 'Morado', 'Rosa'}\n"
     ]
    }
   ],
   "source": [
    "#3\n",
    "colores = {'Morado', 'Rosa', 'Naranja', 'Amarillo', 'Blanco', 'Negro'}\n",
    "print(colores)"
   ]
  },
  {
   "cell_type": "markdown",
   "metadata": {},
   "source": [
    "- Ampliar sets\n",
    "\n",
    "  4. Añade `'lila'` a `colores`.\n",
    "\n",
    "  5. Añade `'azul'`, `'rojo'`, y `'granate'` a `colores` usando `.update()`.\n"
   ]
  },
  {
   "cell_type": "code",
   "execution_count": 5,
   "metadata": {},
   "outputs": [
    {
     "name": "stdout",
     "output_type": "stream",
     "text": [
      "La lista de colores actualizada es: {'Negro', 'Blanco', 'Amarillo', 'Lila', 'Naranja', 'Morado', 'Rosa'}\n"
     ]
    }
   ],
   "source": [
    "#4\n",
    "colores.add('Lila')\n",
    "print('La lista de colores actualizada es:', colores)\n"
   ]
  },
  {
   "cell_type": "code",
   "execution_count": 6,
   "metadata": {},
   "outputs": [
    {
     "name": "stdout",
     "output_type": "stream",
     "text": [
      "La lista de colores actualizados son: {'Morado', 'Azul', 'Negro', 'Lila', 'Naranja', 'Blanco', 'Rojo', 'Rosa', 'Granate', 'Amarillo'}\n"
     ]
    }
   ],
   "source": [
    "#5\n",
    "actualizacion = ['Azul', 'Rojo', 'Granate']\n",
    "colores.update(actualizacion)\n",
    "print('La lista de colores actualizados son:', colores)"
   ]
  },
  {
   "cell_type": "markdown",
   "metadata": {},
   "source": [
    "- `in`, `not in`\n",
    "\n",
    "  6. Tu set de `colores`, ¿tiene `'verde'`?\n",
    "  \n",
    "  7. ¿Y tiene `'ROJO'`?"
   ]
  },
  {
   "cell_type": "code",
   "execution_count": 7,
   "metadata": {},
   "outputs": [
    {
     "name": "stdout",
     "output_type": "stream",
     "text": [
      "¿Esta el color verde en el set colores? False\n"
     ]
    }
   ],
   "source": [
    "#6\n",
    "print(\"¿Esta el color verde en el set colores?\", 'Verde' in colores)"
   ]
  },
  {
   "cell_type": "code",
   "execution_count": 8,
   "metadata": {},
   "outputs": [
    {
     "name": "stdout",
     "output_type": "stream",
     "text": [
      "¿Esta el color granate en el set colores? True\n"
     ]
    }
   ],
   "source": [
    "#7\n",
    "print(\"¿Esta el color granate en el set colores?\", 'Granate' in colores)"
   ]
  },
  {
   "cell_type": "markdown",
   "metadata": {},
   "source": [
    "- Copiar, borrar elementos\n",
    "\n",
    "  8. Define el set `enero` para que sea igual a `diciembre`.\n",
    "\n",
    "  9. Quita las temperaturas `17`, y `18` de `enero`."
   ]
  },
  {
   "cell_type": "code",
   "execution_count": 9,
   "metadata": {},
   "outputs": [
    {
     "name": "stdout",
     "output_type": "stream",
     "text": [
      "{10, 11, 12, 13, 14, 15, 16, 17, 18}\n"
     ]
    }
   ],
   "source": [
    "#8\n",
    "enero = diciembre.copy()\n",
    "print(enero)"
   ]
  },
  {
   "cell_type": "code",
   "execution_count": 10,
   "metadata": {},
   "outputs": [
    {
     "name": "stdout",
     "output_type": "stream",
     "text": [
      "El set de enero queda: {10, 11, 12, 13, 14, 15, 16}\n"
     ]
    }
   ],
   "source": [
    "#9\n",
    "enero.remove(17)\n",
    "enero.remove(18)\n",
    "print('El set de enero queda:', enero)"
   ]
  },
  {
   "cell_type": "markdown",
   "metadata": {},
   "source": [
    "- Tamaño de un set\n",
    "\n",
    "  10. ¿Cuántas temperaturas distintas había en diciembre?\n",
    "  \n",
    "  11. ¿Y cuántas en enero?"
   ]
  },
  {
   "cell_type": "code",
   "execution_count": 11,
   "metadata": {},
   "outputs": [
    {
     "name": "stdout",
     "output_type": "stream",
     "text": [
      "En diciembre había un total de 9 temperaturas\n"
     ]
    }
   ],
   "source": [
    "#10\n",
    "print('En diciembre había un total de', len(diciembre), 'temperaturas')"
   ]
  },
  {
   "cell_type": "code",
   "execution_count": 12,
   "metadata": {},
   "outputs": [
    {
     "name": "stdout",
     "output_type": "stream",
     "text": [
      "En enero había un total de 7 temperaturas\n"
     ]
    }
   ],
   "source": [
    "#11\n",
    "print('En enero había un total de', len(enero), 'temperaturas')"
   ]
  },
  {
   "cell_type": "markdown",
   "metadata": {},
   "source": [
    "- Conjuntos con sets\n",
    "\n",
    "  12. Identifica los elementos que hay en `diciembre` que no están en `enero`.\n",
    "\n",
    "  13. Identifica los elementos que hay en `enero` que no están en `diciembre`.\n",
    "\n",
    "  14. Identifica los elementos que tienen en común `diciembre` y `enero`.\n",
    "\n",
    "  15. Identifica la diferencia simétrica de `colores` y `{'marrón','amarillo','cyan'}`. ¿Qué significa este resultado?"
   ]
  },
  {
   "cell_type": "code",
   "execution_count": 13,
   "metadata": {},
   "outputs": [
    {
     "name": "stdout",
     "output_type": "stream",
     "text": [
      "Los elementos que están en diciembre pero no en enero son: {17, 18}\n"
     ]
    }
   ],
   "source": [
    "#12\n",
    "diciembre_diferencia = diciembre.difference(enero)\n",
    "print(\"Los elementos que están en diciembre pero no en enero son:\", diciembre_diferencia)\n"
   ]
  },
  {
   "cell_type": "code",
   "execution_count": 14,
   "metadata": {},
   "outputs": [
    {
     "name": "stdout",
     "output_type": "stream",
     "text": [
      "Los elementos que están en enero pero no en diciembre son: set()\n"
     ]
    }
   ],
   "source": [
    "#13\n",
    "enero_diferencia = enero.difference(diciembre)\n",
    "print(\"Los elementos que están en enero pero no en diciembre son:\", enero_diferencia)"
   ]
  },
  {
   "cell_type": "code",
   "execution_count": 15,
   "metadata": {},
   "outputs": [
    {
     "name": "stdout",
     "output_type": "stream",
     "text": [
      "Los elementos que tienen en común dciiembre y enero son: {10, 11, 12, 13, 14, 15, 16}\n"
     ]
    }
   ],
   "source": [
    "#14\n",
    "diciembre_comun = diciembre.intersection(enero)\n",
    "print(\"Los elementos que tienen en común dciiembre y enero son:\", diciembre_comun)"
   ]
  },
  {
   "cell_type": "code",
   "execution_count": 16,
   "metadata": {},
   "outputs": [
    {
     "name": "stdout",
     "output_type": "stream",
     "text": [
      "El set colores tiene {'Morado', 'Azul', 'Negro', 'Lila', 'Naranja', 'Blanco', 'Rojo', 'Rosa', 'Granate', 'Amarillo'}\n",
      "El set colores_2 tiene: {'Amarillo', 'Cyan', 'Marrón'}\n",
      "Los elementos que aparecen en un set pero no en el otro son: {'Blanco', 'Rojo', 'Morado', 'Azul', 'Rosa', 'Granate', 'Negro', 'Cyan', 'Marrón', 'Lila', 'Naranja'}\n"
     ]
    }
   ],
   "source": [
    "#15\n",
    "colores_2 = {'Marrón', 'Amarillo', 'Cyan'}\n",
    "print('El set colores tiene', colores)\n",
    "print('El set colores_2 tiene:', colores_2)\n",
    "\n",
    "colores_dif = colores.symmetric_difference(colores_2)\n",
    "print(\"Los elementos que aparecen en un set pero no en el otro son:\", colores_dif)"
   ]
  },
  {
   "cell_type": "markdown",
   "metadata": {},
   "source": [
    "- Comparar sets\n",
    "\n",
    "  16. ¿Son *disjoint* `diciembre` y `enero`? ¿Por qué (no)?\n",
    "\n",
    "  17. ¿Es `{'rojo','azul'}` un superset de colores?\n",
    "  \n",
    "  18. ¿Y un subset?"
   ]
  },
  {
   "cell_type": "code",
   "execution_count": 17,
   "metadata": {},
   "outputs": [
    {
     "name": "stdout",
     "output_type": "stream",
     "text": [
      "¿Tienen los sets los elementos completamente diferentes?: False\n"
     ]
    }
   ],
   "source": [
    "#16\n",
    "diciembre_disjoint = diciembre.isdisjoint(enero)\n",
    "print(\"¿Tienen los sets los elementos completamente diferentes?:\", diciembre_disjoint)\n",
    "\n",
    "#Tienen elementos en común por eso es False\n"
   ]
  },
  {
   "cell_type": "code",
   "execution_count": 20,
   "metadata": {},
   "outputs": [
    {
     "name": "stdout",
     "output_type": "stream",
     "text": [
      "¿Es 'rojo', 'azul' un superset de colores?: False\n"
     ]
    }
   ],
   "source": [
    "#17\n",
    "colores_3 = {'Rojo', 'Azul'}\n",
    "colores_issuperset = colores_3.issuperset(colores)\n",
    "print(\"¿Es 'rojo', 'azul' un superset de colores?:\", colores_issuperset)\n"
   ]
  },
  {
   "cell_type": "code",
   "execution_count": 22,
   "metadata": {},
   "outputs": [
    {
     "name": "stdout",
     "output_type": "stream",
     "text": [
      "¿Es rojo, azul un subset de colores? True\n"
     ]
    }
   ],
   "source": [
    "#18\n",
    "colores_issubset = colores_3.issubset(colores)\n",
    "print('¿Es rojo, azul un subset de colores?', colores_issubset)"
   ]
  }
 ],
 "metadata": {
  "kernelspec": {
   "display_name": "base",
   "language": "python",
   "name": "python3"
  },
  "language_info": {
   "codemirror_mode": {
    "name": "ipython",
    "version": 3
   },
   "file_extension": ".py",
   "mimetype": "text/x-python",
   "name": "python",
   "nbconvert_exporter": "python",
   "pygments_lexer": "ipython3",
   "version": "3.9.0"
  }
 },
 "nbformat": 4,
 "nbformat_minor": 2
}
